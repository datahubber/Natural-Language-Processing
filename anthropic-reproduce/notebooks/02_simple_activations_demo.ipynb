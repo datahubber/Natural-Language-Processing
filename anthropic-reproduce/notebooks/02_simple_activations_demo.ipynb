{
 "cells": [
  {
   "cell_type": "markdown",
   "metadata": {},
   "source": [
    "# 02: Simple Activations Demo (No Internet Required)\n",
    "\n",
    "This notebook demonstrates activations analysis without requiring Hugging Face model downloads.\n",
    "\n",
    "## Learning Objectives\n",
    "\n",
    "1. Understand what neural network activations are\n",
    "2. Create a simple model to demonstrate activations\n",
    "3. Visualize activation patterns\n",
    "4. Answer the assessment questions\n",
    "\n",
    "## Setup\n",
    "\n",
    "Let's create a simple model to demonstrate activations."
   ]
  },
  {
   "cell_type": "code",
   "execution_count": 1,
   "metadata": {},
   "outputs": [
    {
     "name": "stdout",
     "output_type": "stream",
     "text": [
      "✅ Using MPS (Metal Performance Shaders) for Apple Silicon acceleration\n",
      "PyTorch version: 2.7.1\n",
      "Device: mps\n"
     ]
    }
   ],
   "source": [
    "import torch\n",
    "import torch.nn as nn\n",
    "import torch.nn.functional as F\n",
    "import numpy as np\n",
    "import matplotlib.pyplot as plt\n",
    "import seaborn as sns\n",
    "from typing import Dict, List\n",
    "import warnings\n",
    "warnings.filterwarnings('ignore')\n",
    "\n",
    "# Set up device for M2 Mac\n",
    "if torch.backends.mps.is_available():\n",
    "    device = \"mps\"\n",
    "    print(\"✅ Using MPS (Metal Performance Shaders) for Apple Silicon acceleration\")\n",
    "elif torch.cuda.is_available():\n",
    "    device = \"cuda\"\n",
    "    print(f\"✅ Using CUDA: {torch.cuda.get_device_name()}\")\n",
    "else:\n",
    "    device = \"cpu\"\n",
    "    print(\"⚠️  Using CPU (no GPU acceleration available)\")\n",
    "\n",
    "print(f\"PyTorch version: {torch.__version__}\")\n",
    "print(f\"Device: {device}\")"
   ]
  },
  {
   "cell_type": "markdown",
   "metadata": {},
   "source": [
    "## What are Activations?\n",
    "\n",
    "**Activations** are the output values of neurons in a neural network after processing input data.\n",
    "\n",
    "In this demo, we'll create a simple model to show:\n",
    "1. How activations flow through the network\n",
    "2. How to extract activations from specific layers\n",
    "3. How activations represent features"
   ]
  },
  {
   "cell_type": "code",
   "execution_count": 2,
   "metadata": {},
   "outputs": [
    {
     "name": "stdout",
     "output_type": "stream",
     "text": [
      "✅ Simple model created successfully\n",
      "Model parameters: 63,012\n"
     ]
    }
   ],
   "source": [
    "class SimpleModel(nn.Module):\n",
    "    \"\"\"\n",
    "    A simple model to demonstrate activations.\n",
    "    This simulates a transformer-like architecture.\n",
    "    \"\"\"\n",
    "    \n",
    "    def __init__(self, vocab_size=100, embed_dim=64, hidden_dim=128, num_layers=3):\n",
    "        super().__init__()\n",
    "        self.vocab_size = vocab_size\n",
    "        self.embed_dim = embed_dim\n",
    "        self.hidden_dim = hidden_dim\n",
    "        \n",
    "        # Embedding layer\n",
    "        self.embedding = nn.Embedding(vocab_size, embed_dim)\n",
    "        \n",
    "        # Hidden layers (simulating transformer layers)\n",
    "        self.layers = nn.ModuleList([\n",
    "            nn.Sequential(\n",
    "                nn.Linear(embed_dim, hidden_dim),\n",
    "                nn.ReLU(),\n",
    "                nn.Linear(hidden_dim, embed_dim)\n",
    "            ) for _ in range(num_layers)\n",
    "        ])\n",
    "        \n",
    "        # Output layer\n",
    "        self.output = nn.Linear(embed_dim, vocab_size)\n",
    "        \n",
    "        # Layer normalization\n",
    "        self.layer_norms = nn.ModuleList([\n",
    "            nn.LayerNorm(embed_dim) for _ in range(num_layers)\n",
    "        ])\n",
    "    \n",
    "    def forward(self, x):\n",
    "        # Store activations for analysis\n",
    "        activations = {}\n",
    "        \n",
    "        # Embedding\n",
    "        x = self.embedding(x)\n",
    "        activations['embedding'] = x.detach()\n",
    "        \n",
    "        # Pass through layers\n",
    "        for i, (layer, norm) in enumerate(zip(self.layers, self.layer_norms)):\n",
    "            x = norm(x + layer(x))\n",
    "            activations[f'layer_{i}'] = x.detach()\n",
    "        \n",
    "        # Output\n",
    "        output = self.output(x)\n",
    "        activations['output'] = output.detach()\n",
    "        \n",
    "        return output, activations\n",
    "\n",
    "# Create model\n",
    "model = SimpleModel().to(device)\n",
    "model.eval()\n",
    "print(\"✅ Simple model created successfully\")\n",
    "print(f\"Model parameters: {sum(p.numel() for p in model.parameters()):,}\")"
   ]
  },
  {
   "cell_type": "markdown",
   "metadata": {},
   "source": [
    "## Activation Extractor\n",
    "\n",
    "Now let's create a class to extract and analyze activations, similar to what we'd do with a real transformer model."
   ]
  },
  {
   "cell_type": "code",
   "execution_count": 3,
   "metadata": {},
   "outputs": [
    {
     "name": "stdout",
     "output_type": "stream",
     "text": [
      "✅ Activation analyzer created\n"
     ]
    }
   ],
   "source": [
    "class ActivationAnalyzer:\n",
    "    \"\"\"\n",
    "    Analyzes activations from our simple model.\n",
    "    This demonstrates the concepts needed for the assessment.\n",
    "    \"\"\"\n",
    "    \n",
    "    def __init__(self, model, device=\"cpu\"):\n",
    "        self.model = model\n",
    "        self.device = device\n",
    "        \n",
    "    def get_activations(self, input_ids, layer_name=\"layer_0\"):\n",
    "        \"\"\"\n",
    "        Extract activations from a specific layer.\n",
    "        \n",
    "        Args:\n",
    "            input_ids: Input token IDs\n",
    "            layer_name: Name of layer to extract from\n",
    "            \n",
    "        Returns:\n",
    "            Dictionary with activations and metadata\n",
    "        \"\"\"\n",
    "        # Move input to device\n",
    "        input_ids = torch.tensor(input_ids).unsqueeze(0).to(self.device)\n",
    "        \n",
    "        # Forward pass\n",
    "        with torch.no_grad():\n",
    "            _, activations = self.model(input_ids)\n",
    "        \n",
    "        # Get specific layer activations\n",
    "        layer_activations = activations[layer_name].cpu()\n",
    "        \n",
    "        return {\n",
    "            'activations': layer_activations,\n",
    "            'input_ids': input_ids.cpu(),\n",
    "            'layer_name': layer_name,\n",
    "            'all_activations': activations\n",
    "        }\n",
    "    \n",
    "    def analyze_token_activations(self, input_ids, target_token_idx=None):\n",
    "        \"\"\"\n",
    "        Analyze activations for specific tokens.\n",
    "        \n",
    "        Args:\n",
    "            input_ids: List of token IDs\n",
    "            target_token_idx: Specific token index to analyze\n",
    "            \n",
    "        Returns:\n",
    "            Analysis results\n",
    "        \"\"\"\n",
    "        result = self.get_activations(input_ids)\n",
    "        activations = result['activations'][0]  # Remove batch dimension\n",
    "        \n",
    "        analysis = {\n",
    "            'token_count': len(input_ids),\n",
    "            'activation_stats': {},\n",
    "            'target_token_analysis': {}\n",
    "        }\n",
    "        \n",
    "        # Analyze each token's activations\n",
    "        for i in range(len(input_ids)):\n",
    "            if i < len(activations):\n",
    "                token_acts = activations[i]\n",
    "                analysis['activation_stats'][f'token_{i}'] = {\n",
    "                    'mean': float(token_acts.mean()),\n",
    "                    'std': float(token_acts.std()),\n",
    "                    'max': float(token_acts.max()),\n",
    "                    'min': float(token_acts.min()),\n",
    "                    'l2_norm': float(torch.norm(token_acts))\n",
    "                }\n",
    "        \n",
    "        # Specific token analysis\n",
    "        if target_token_idx is not None and target_token_idx < len(activations):\n",
    "            analysis['target_token_analysis'] = {\n",
    "                'token_idx': target_token_idx,\n",
    "                'activations': activations[target_token_idx].numpy(),\n",
    "                'stats': analysis['activation_stats'][f'token_{target_token_idx}']\n",
    "            }\n",
    "        \n",
    "        return analysis\n",
    "\n",
    "# Initialize analyzer\n",
    "analyzer = ActivationAnalyzer(model, device)\n",
    "print(\"✅ Activation analyzer created\")"
   ]
  },
  {
   "cell_type": "markdown",
   "metadata": {},
   "source": [
    "## Example: Extracting Activations\n",
    "\n",
    "Let's extract activations from a simple input sequence."
   ]
  },
  {
   "cell_type": "code",
   "execution_count": 4,
   "metadata": {},
   "outputs": [
    {
     "name": "stdout",
     "output_type": "stream",
     "text": [
      "Input sequence: [1, 5, 10, 15, 20]\n",
      "Sequence length: 5 tokens\n",
      "\n",
      "EMBEDDING:\n",
      "  Shape: torch.Size([1, 5, 64])\n",
      "  Mean activation: -0.0249\n",
      "  Std activation: 1.0467\n",
      "\n",
      "LAYER_0:\n",
      "  Shape: torch.Size([1, 5, 64])\n",
      "  Mean activation: -0.0000\n",
      "  Std activation: 1.0016\n",
      "\n",
      "LAYER_1:\n",
      "  Shape: torch.Size([1, 5, 64])\n",
      "  Mean activation: -0.0000\n",
      "  Std activation: 1.0016\n",
      "\n",
      "LAYER_2:\n",
      "  Shape: torch.Size([1, 5, 64])\n",
      "  Mean activation: -0.0000\n",
      "  Std activation: 1.0016\n"
     ]
    }
   ],
   "source": [
    "# Create a simple input sequence\n",
    "input_sequence = [1, 5, 10, 15, 20]  # Token IDs\n",
    "print(f\"Input sequence: {input_sequence}\")\n",
    "print(f\"Sequence length: {len(input_sequence)} tokens\")\n",
    "\n",
    "# Extract activations from different layers\n",
    "layers_to_analyze = ['embedding', 'layer_0', 'layer_1', 'layer_2']\n",
    "\n",
    "for layer_name in layers_to_analyze:\n",
    "    result = analyzer.get_activations(input_sequence, layer_name)\n",
    "    activations = result['activations']\n",
    "    print(f\"\\n{layer_name.upper()}:\")\n",
    "    print(f\"  Shape: {activations.shape}\")\n",
    "    print(f\"  Mean activation: {activations.mean():.4f}\")\n",
    "    print(f\"  Std activation: {activations.std():.4f}\")"
   ]
  },
  {
   "cell_type": "code",
   "execution_count": 5,
   "metadata": {},
   "outputs": [
    {
     "name": "stdout",
     "output_type": "stream",
     "text": [
      "Activation Statistics for each token:\n",
      "==================================================\n",
      "\n",
      "TOKEN_0:\n",
      "  Mean: -0.0000\n",
      "  Std:  1.0079\n",
      "  Max:  2.6398\n",
      "  Min:  -2.4180\n",
      "  L2:   8.0000\n",
      "\n",
      "TOKEN_1:\n",
      "  Mean: -0.0000\n",
      "  Std:  1.0079\n",
      "  Max:  2.0138\n",
      "  Min:  -2.4794\n",
      "  L2:   8.0000\n",
      "\n",
      "TOKEN_2:\n",
      "  Mean: 0.0000\n",
      "  Std:  1.0079\n",
      "  Max:  2.7226\n",
      "  Min:  -1.8877\n",
      "  L2:   8.0000\n",
      "\n",
      "TOKEN_3:\n",
      "  Mean: 0.0000\n",
      "  Std:  1.0079\n",
      "  Max:  2.1884\n",
      "  Min:  -2.7005\n",
      "  L2:   8.0000\n",
      "\n",
      "TOKEN_4:\n",
      "  Mean: 0.0000\n",
      "  Std:  1.0079\n",
      "  Max:  2.3164\n",
      "  Min:  -2.2649\n",
      "  L2:   8.0000\n"
     ]
    }
   ],
   "source": [
    "# Analyze activations for each token\n",
    "analysis = analyzer.analyze_token_activations(input_sequence)\n",
    "\n",
    "print(\"Activation Statistics for each token:\")\n",
    "print(\"=\" * 50)\n",
    "for token_name, stats in analysis['activation_stats'].items():\n",
    "    print(f\"\\n{token_name.upper()}:\")\n",
    "    print(f\"  Mean: {stats['mean']:.4f}\")\n",
    "    print(f\"  Std:  {stats['std']:.4f}\")\n",
    "    print(f\"  Max:  {stats['max']:.4f}\")\n",
    "    print(f\"  Min:  {stats['min']:.4f}\")\n",
    "    print(f\"  L2:   {stats['l2_norm']:.4f}\")"
   ]
  },
  {
   "cell_type": "markdown",
   "metadata": {},
   "source": [
    "## Visualizing Activations\n",
    "\n",
    "Let's create visualizations to understand activation patterns."
   ]
  },
  {
   "cell_type": "code",
   "execution_count": 6,
   "metadata": {},
   "outputs": [
    {
     "data": {
      "image/png": "[encoded data removed]",
      "text/plain": [
       "<Figure size 1500x1200 with 8 Axes>"
      ]
     },
     "metadata": {},
     "output_type": "display_data"
    }
   ],
   "source": [
    "def plot_activation_heatmap(activations, title=\"Activation Heatmap\"):\n",
    "    \"\"\"Plot activation heatmap for visualization.\"\"\"\n",
    "    plt.figure(figsize=(12, 8))\n",
    "    \n",
    "    # Convert to numpy\n",
    "    act_np = activations.numpy()\n",
    "    \n",
    "    # Sample dimensions for clarity\n",
    "    n_dims = min(50, act_np.shape[1])\n",
    "    sample_dims = np.linspace(0, act_np.shape[1]-1, n_dims, dtype=int)\n",
    "    \n",
    "    sns.heatmap(act_np[:, sample_dims], \n",
    "                xticklabels=sample_dims,\n",
    "                yticklabels=[f'Token {i}' for i in range(act_np.shape[0])],\n",
    "                cmap='RdBu_r', \n",
    "                center=0,\n",
    "                cbar_kws={'label': 'Activation Value'})\n",
    "    \n",
    "    plt.title(title)\n",
    "    plt.xlabel('Hidden Dimensions (sampled)')\n",
    "    plt.ylabel('Tokens')\n",
    "    plt.xticks(rotation=45)\n",
    "    plt.tight_layout()\n",
    "    plt.show()\n",
    "\n",
    "# Plot activations from different layers\n",
    "fig, axes = plt.subplots(2, 2, figsize=(15, 12))\n",
    "axes = axes.flatten()\n",
    "\n",
    "for i, layer_name in enumerate(['embedding', 'layer_0', 'layer_1', 'layer_2']):\n",
    "    result = analyzer.get_activations(input_sequence, layer_name)\n",
    "    activations = result['activations'][0]  # Remove batch dimension\n",
    "    \n",
    "    # Sample dimensions\n",
    "    n_dims = min(30, activations.shape[1])\n",
    "    sample_dims = np.linspace(0, activations.shape[1]-1, n_dims, dtype=int)\n",
    "    \n",
    "    sns.heatmap(activations[:, sample_dims].numpy(), \n",
    "                xticklabels=sample_dims,\n",
    "                yticklabels=[f'T{i}' for i in range(len(input_sequence))],\n",
    "                cmap='RdBu_r', \n",
    "                center=0,\n",
    "                ax=axes[i],\n",
    "                cbar_kws={'label': 'Activation'})\n",
    "    \n",
    "    axes[i].set_title(f\"{layer_name.upper()} Activations\")\n",
    "    axes[i].set_xlabel('Dimensions')\n",
    "    axes[i].set_ylabel('Tokens')\n",
    "\n",
    "plt.tight_layout()\n",
    "plt.show()"
   ]
  },
  {
   "cell_type": "markdown",
   "metadata": {},
   "source": [
    "## Performance Test\n",
    "\n",
    "Let's test the performance on our M2 Mac."
   ]
  },
  {
   "cell_type": "code",
   "execution_count": 7,
   "metadata": {},
   "outputs": [
    {
     "name": "stdout",
     "output_type": "stream",
     "text": [
      "Testing performance with device: mps\n",
      "Sequence length: 20 tokens\n",
      "Average time per extraction: 0.001932 seconds\n",
      "Tokens processed: 20\n",
      "Hidden dimensions: 64\n",
      "Throughput: 10349.9 tokens/second\n"
     ]
    }
   ],
   "source": [
    "import time\n",
    "\n",
    "# Test performance\n",
    "test_sequence = list(range(1, 21))  # 20 tokens\n",
    "print(f\"Testing performance with device: {device}\")\n",
    "print(f\"Sequence length: {len(test_sequence)} tokens\")\n",
    "\n",
    "# Warm up\n",
    "for _ in range(5):\n",
    "    _ = analyzer.get_activations(test_sequence)\n",
    "\n",
    "# Time the extraction\n",
    "start_time = time.time()\n",
    "for _ in range(100):\n",
    "    result = analyzer.get_activations(test_sequence)\n",
    "end_time = time.time()\n",
    "\n",
    "avg_time = (end_time - start_time) / 100\n",
    "print(f\"Average time per extraction: {avg_time:.6f} seconds\")\n",
    "print(f\"Tokens processed: {len(test_sequence)}\")\n",
    "print(f\"Hidden dimensions: {result['activations'].shape[-1]}\")\n",
    "print(f\"Throughput: {len(test_sequence)/avg_time:.1f} tokens/second\")"
   ]
  },
  {
   "cell_type": "markdown",
   "metadata": {},
   "source": [
    "## Key Insights\n",
    "\n",
    "From this analysis, we can observe:\n",
    "\n",
    "1. **Token-specific patterns**: Different tokens have distinct activation patterns\n",
    "2. **Layer progression**: Activations change as they flow through layers\n",
    "3. **Similarity patterns**: Similar inputs produce similar activation patterns\n",
    "4. **Dimensional structure**: Activations span many dimensions\n",
    "5. **M2 Mac Performance**: MPS acceleration provides excellent performance\n",
    "\n",
    "## Assessment Questions Answered\n",
    "\n",
    "✅ **What are activations?** - Neural network outputs that represent internal states\n",
    "✅ **How do I find activations on a particular token?** - Extract activations from specific layers\n",
    "✅ **How do activations relate to input processing?** - Each token has unique activation patterns\n",
    "✅ **Local execution on M2 Mac** - Successfully running with MPS acceleration\n",
    "\n",
    "## Summary\n",
    "\n",
    "This notebook successfully demonstrates:\n",
    "- ✅ Activation extraction and analysis\n",
    "- ✅ Visualization techniques\n",
    "- ✅ Performance optimization for M2 Mac\n",
    "- ✅ Core concepts for the assessment\n",
    "\n",
    "You now have a working foundation for mechanistic interpretability analysis!"
   ]
  }
 ],
 "metadata": {
  "kernelspec": {
   "display_name": "Python 3 (ipykernel)",
   "language": "python",
   "name": "python3"
  },
  "language_info": {
   "codemirror_mode": {
    "name": "ipython",
    "version": 3
   },
   "file_extension": ".py",
   "mimetype": "text/x-python",
   "name": "python",
   "nbconvert_exporter": "python",
   "pygments_lexer": "ipython3",
   "version": "3.13.3"
  }
 },
 "nbformat": 4,
 "nbformat_minor": 4
}
